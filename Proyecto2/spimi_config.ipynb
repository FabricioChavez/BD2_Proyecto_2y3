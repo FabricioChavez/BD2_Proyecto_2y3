{
 "cells": [
  {
   "cell_type": "markdown",
   "metadata": {},
   "source": [
    "# Instrucciones SPIMI"
   ]
  },
  {
   "cell_type": "markdown",
   "metadata": {},
   "source": [
    "La app requiere de un indice spimi para poder hacer las consultas"
   ]
  },
  {
   "cell_type": "code",
   "execution_count": 1,
   "metadata": {},
   "outputs": [],
   "source": [
    "import pandas as pd\n",
    "from Spimi import SPIMIIndex"
   ]
  },
  {
   "cell_type": "markdown",
   "metadata": {},
   "source": [
    "Mantener el archivo de datos en la misma carpeta del proyecto 2"
   ]
  },
  {
   "cell_type": "code",
   "execution_count": 2,
   "metadata": {},
   "outputs": [],
   "source": [
    "# Nombre del archivo csv\n",
    "file_path = \"data.csv\""
   ]
  },
  {
   "cell_type": "markdown",
   "metadata": {},
   "source": [
    "# Crear el SPIMI"
   ]
  },
  {
   "cell_type": "markdown",
   "metadata": {},
   "source": [
    "Solo ejecutar el siguiente bloque si es que no existen estos archivos:\n",
    "- final_index.txt\n",
    "- index_pointer.txt"
   ]
  },
  {
   "cell_type": "code",
   "execution_count": 3,
   "metadata": {},
   "outputs": [
    {
     "name": "stdout",
     "output_type": "stream",
     "text": [
      "Indexing...\n",
      "collection_size 70917\n",
      "Merging blocks...\n"
     ]
    }
   ],
   "source": [
    "# Uso del índice\n",
    "chunk_size = 10000  # Cantidad de filas por chunk\n",
    "memory_limit = 500000  # Límite de memoria en bytes\n",
    "\n",
    "# Inicializar el índice con el límite de memoria\n",
    "index = SPIMIIndex(memory_limit=memory_limit)\n",
    "\n",
    "# Crear un generador que produzca chunks de documentos\n",
    "def document_chunks(file_path, chunk_size):\n",
    "    for chunk in pd.read_csv(file_path, chunksize=chunk_size):\n",
    "        yield chunk[\"merge\"].dropna().tolist()\n",
    "\n",
    "index.construct_index(document_chunks(file_path, chunk_size))"
   ]
  }
 ],
 "metadata": {
  "kernelspec": {
   "display_name": ".venv",
   "language": "python",
   "name": "python3"
  },
  "language_info": {
   "codemirror_mode": {
    "name": "ipython",
    "version": 3
   },
   "file_extension": ".py",
   "mimetype": "text/x-python",
   "name": "python",
   "nbconvert_exporter": "python",
   "pygments_lexer": "ipython3",
   "version": "3.12.4"
  }
 },
 "nbformat": 4,
 "nbformat_minor": 2
}
