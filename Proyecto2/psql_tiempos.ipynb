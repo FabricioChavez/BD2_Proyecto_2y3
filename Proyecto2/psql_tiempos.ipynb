{
 "cells": [
  {
   "cell_type": "code",
   "execution_count": 1,
   "metadata": {},
   "outputs": [],
   "source": [
    "import psycopg2\n",
    "import pandas as pd\n",
    "import re"
   ]
  },
  {
   "cell_type": "code",
   "execution_count": 4,
   "metadata": {},
   "outputs": [],
   "source": [
    "# Crear database en psql usando commando:\n",
    "# psql -U postgres\n",
    "# CREATE DATABASE proyecto2;\n",
    "\n",
    "# Conectar a la base de datos y actualizar password\n",
    "conn = psycopg2.connect(\n",
    "    host=\"localhost\",\n",
    "    dbname=\"p2\", \n",
    "    user=\"postgres\",\n",
    "    password=\"1234\",\n",
    "    port=\"5432\"\n",
    ")\n",
    "\n",
    "# definir una funcion para ejecutar consultas\n",
    "def ejecutar_consulta(sql_str, select = False):\n",
    "    try:\n",
    "        # Crear un cursor para ejecutar las consultas\n",
    "        cur = conn.cursor()\n",
    "        # Ejecutar la consulta\n",
    "        result = cur.execute(sql_str)   \n",
    "        # Aplicar commit si la consulta es INSERT, UPDATE o DELETE     \n",
    "        conn.commit()        \n",
    "        # Obtener los resultados\n",
    "        if select:\n",
    "            rows = cur.fetchall()\n",
    "            df = pd.DataFrame(rows, columns=[desc[0] for desc in cur.description])\n",
    "            return df\n",
    "        else:\n",
    "            return result\n",
    "    except Exception as e:\n",
    "        print(f\"Error: {e}\")\n",
    "        conn.rollback()  # Revertir si hay un error\n",
    "    finally:\n",
    "        cur.close()"
   ]
  },
  {
   "cell_type": "code",
   "execution_count": null,
   "metadata": {},
   "outputs": [],
   "source": [
    "sql_create_table = \"\"\"\n",
    "CREATE TABLE IF NOT EXISTS manga(\n",
    "    title text,\n",
    "    description text, \n",
    "    rating numeric,\n",
    "    year numeric,\n",
    "    tags text, \n",
    "    cover text, \n",
    "    merge text\n",
    ");\n",
    "\"\"\"\n",
    "\n",
    "#  se importo data del csv.\n",
    "#  \\copy manga from '</path/to/file/filename.csv>' delimiter ',' CSV HEADER;"
   ]
  },
  {
   "cell_type": "code",
   "execution_count": null,
   "metadata": {},
   "outputs": [],
   "source": [
    "# Prueba y verificacion de los datos\n",
    "sql_str = \"select * from manga;\"\n",
    "ejecutar_consulta(sql_str, select=True)"
   ]
  },
  {
   "cell_type": "code",
   "execution_count": null,
   "metadata": {},
   "outputs": [],
   "source": [
    "# Probando to_tsvector\n",
    "sql_str = \"select to_tsvector('english', merge) as merge_vector from manga;\"\n",
    "ejecutar_consulta(sql_str, select=True)"
   ]
  },
  {
   "cell_type": "code",
   "execution_count": null,
   "metadata": {},
   "outputs": [],
   "source": [
    "# Agregar columna vectorizada a la tabla\n",
    "sql_str = \"alter table manga add column merge_vector tsvector;\"\n",
    "ejecutar_consulta(sql_str, select=True)"
   ]
  },
  {
   "cell_type": "code",
   "execution_count": null,
   "metadata": {},
   "outputs": [],
   "source": [
    "# Actualizar columna\n",
    "sql_str = \"update manga set merge_vector = to_tsvector('english', merge)\"\n",
    "ejecutar_consulta(sql_str, select=True)"
   ]
  },
  {
   "cell_type": "code",
   "execution_count": null,
   "metadata": {},
   "outputs": [],
   "source": [
    "# Probando columna con texto vectorizado\n",
    "sql_str = \"select merge_vector from manga;\"\n",
    "ejecutar_consulta(sql_str, select=True)"
   ]
  },
  {
   "cell_type": "code",
   "execution_count": null,
   "metadata": {},
   "outputs": [],
   "source": [
    "# Agregar un indice invertido (GIN)\n",
    "sql_str = \"create index manga_merge_index on manga using GIN(merge_vector)\"\n",
    "ejecutar_consulta(sql_str, select=True)"
   ]
  },
  {
   "cell_type": "code",
   "execution_count": null,
   "metadata": {},
   "outputs": [
    {
     "name": "stdout",
     "output_type": "stream",
     "text": [
      "2000: 0.05 ms\n",
      "4000: 0.046 ms\n",
      "8000: 0.051 ms\n",
      "16000: 0.047 ms\n",
      "32000: 0.098 ms\n",
      "64000: 0.155 ms\n",
      "128000: 0.114 ms\n"
     ]
    }
   ],
   "source": [
    "Ns = [pow(2, i) * 1000 for i in [1, 2, 3, 4, 5, 6, 7]]\n",
    "\n",
    "for N in Ns:\n",
    "\n",
    "    sql_str = f\"\"\" \n",
    "\n",
    "    create table manga_vector_subset (\n",
    "    merge_vector tsvector\n",
    "    );\n",
    "\n",
    "    insert into manga_vector_subset (merge_vector)\n",
    "    select merge_vector\n",
    "    from manga\n",
    "    limit {N};\n",
    "\n",
    "    create index manga_vector_subset_index\n",
    "    on manga_vector_subset\n",
    "    using GIN(merge_vector);\n",
    "\n",
    "    explain analyze\n",
    "    select merge_vector, ts_rank_cd(merge_vector, query_w) as rank\n",
    "    from manga_vector_subset, to_tsquery('Tanjirou | Kimetsu | Nezuko' )\n",
    "    query_w\n",
    "    where query_w @@ merge_vector\n",
    "    order by rank desc limit 10;\n",
    "    \"\"\"\n",
    "\n",
    "    result = ejecutar_consulta(sql_str, True)\n",
    "    execution_time = float(re.search(r'Execution Time: (\\d+\\.\\d+)', str(result)).group(1))\n",
    "    print(f\"{N}: {execution_time} ms\")\n",
    "\n",
    "    sql_drop = \"drop table manga_vector_subset;\"\n",
    "    ejecutar_consulta(sql_drop)\n",
    "\n"
   ]
  }
 ],
 "metadata": {
  "kernelspec": {
   "display_name": ".venv",
   "language": "python",
   "name": "python3"
  },
  "language_info": {
   "codemirror_mode": {
    "name": "ipython",
    "version": 3
   },
   "file_extension": ".py",
   "mimetype": "text/x-python",
   "name": "python",
   "nbconvert_exporter": "python",
   "pygments_lexer": "ipython3",
   "version": "3.12.4"
  }
 },
 "nbformat": 4,
 "nbformat_minor": 2
}
