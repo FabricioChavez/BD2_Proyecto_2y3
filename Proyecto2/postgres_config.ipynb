{
 "cells": [
  {
   "cell_type": "markdown",
   "metadata": {},
   "source": [
    "# Instrucciones Postgres"
   ]
  },
  {
   "cell_type": "markdown",
   "metadata": {},
   "source": [
    "La app espera conectarse a una base de datos de postgres usando psycopg2. "
   ]
  },
  {
   "cell_type": "code",
   "execution_count": 2,
   "metadata": {},
   "outputs": [],
   "source": [
    "import psycopg2\n",
    "import pandas as pd"
   ]
  },
  {
   "cell_type": "markdown",
   "metadata": {},
   "source": [
    "Para evitar tener que usar psql para crear la base de datos, se agrego el siguiente script. Cambiar contraseña postgres si fuese necesario."
   ]
  },
  {
   "cell_type": "code",
   "execution_count": 3,
   "metadata": {},
   "outputs": [
    {
     "name": "stdout",
     "output_type": "stream",
     "text": [
      "La base de datos ya existe.\n"
     ]
    }
   ],
   "source": [
    "# Conexión a la base de datos predeterminada 'postgres'\n",
    "conn = psycopg2.connect(\n",
    "    host=\"localhost\",\n",
    "    dbname=\"postgres\",\n",
    "    user=\"postgres\",\n",
    "    password=\"1234\", \n",
    "    port=\"5432\"\n",
    ")\n",
    "\n",
    "conn.autocommit = True  \n",
    "cursor = conn.cursor()\n",
    "\n",
    "# Crear la base de datos 'P2G6S1' = (Proyecto 2, Grupo 6, Seccion 1)\n",
    "try:\n",
    "    cursor.execute(\"create database p2g6s1\")\n",
    "    print(\"Base de datos creada exitosamente.\")\n",
    "except psycopg2.errors.DuplicateDatabase:\n",
    "    print(\"La base de datos ya existe.\")\n",
    "except Exception as e:\n",
    "    print(f\"Error al crear la base de datos: {e}\")\n",
    "\n",
    "cursor.close()\n",
    "conn.close()"
   ]
  },
  {
   "cell_type": "markdown",
   "metadata": {},
   "source": [
    "Se hace la conexion a la base de datos que se conectara con la app. "
   ]
  },
  {
   "cell_type": "code",
   "execution_count": 6,
   "metadata": {},
   "outputs": [],
   "source": [
    "# Coneccion a la nueva base de datos\n",
    "conn = psycopg2.connect(\n",
    "    host=\"localhost\",\n",
    "    dbname=\"p2g6s1\", \n",
    "    user=\"postgres\",\n",
    "    password=\"1234\",\n",
    "    port=\"5432\"\n",
    ")\n",
    "\n",
    "# definir una funcion para ejecutar consultas\n",
    "def ejecutar_consulta(sql_str, select = False):\n",
    "    try:\n",
    "        # Crear un cursor para ejecutar las consultas\n",
    "        cur = conn.cursor()\n",
    "        # Ejecutar la consulta\n",
    "        result = cur.execute(sql_str)   \n",
    "        # Aplicar commit si la consulta es INSERT, UPDATE o DELETE     \n",
    "        conn.commit()        \n",
    "        # Obtener los resultados\n",
    "        if select:\n",
    "            rows = cur.fetchall()\n",
    "            df = pd.DataFrame(rows, columns=[desc[0] for desc in cur.description])\n",
    "            return df\n",
    "        else:\n",
    "            return result\n",
    "    except Exception as e:\n",
    "        print(f\"Error: {e}\")\n",
    "        conn.rollback()  # Revertir si hay un error\n",
    "    finally:\n",
    "        cur.close()"
   ]
  },
  {
   "cell_type": "markdown",
   "metadata": {},
   "source": [
    "Crear las tablas en la base de datos 'p2g6s1'"
   ]
  },
  {
   "cell_type": "code",
   "execution_count": 54,
   "metadata": {},
   "outputs": [],
   "source": [
    "sql_create_table = \"\"\"\n",
    "CREATE TABLE IF NOT EXISTS manga(\n",
    "    title text,\n",
    "    description text, \n",
    "    rating numeric,\n",
    "    year numeric,\n",
    "    tags text, \n",
    "    cover text, \n",
    "    merge text\n",
    ");\n",
    "\"\"\"\n",
    "\n",
    "ejecutar_consulta(sql_create_table)"
   ]
  },
  {
   "cell_type": "markdown",
   "metadata": {},
   "source": [
    "Llenar la tabla con archivo 'data.csv'"
   ]
  },
  {
   "cell_type": "code",
   "execution_count": 55,
   "metadata": {},
   "outputs": [
    {
     "name": "stdout",
     "output_type": "stream",
     "text": [
      "Datos insertados exitosamente.\n"
     ]
    }
   ],
   "source": [
    "# Llenar la tabla desde el archivo CSV\n",
    "csv_file_path = \"data.csv\"\n",
    "try:\n",
    "    with open(csv_file_path, 'r') as f:\n",
    "        copy_query = \"copy manga from stdin with csv header\"\n",
    "        cur = conn.cursor()\n",
    "        cur.copy_expert(copy_query, f) \n",
    "        conn.commit()\n",
    "        cur.close()\n",
    "    print(\"Datos insertados exitosamente.\")\n",
    "except Exception as e:\n",
    "    print(f\"Error al insertar datos: {e}\")\n",
    "    conn.rollback()"
   ]
  },
  {
   "cell_type": "markdown",
   "metadata": {},
   "source": [
    "Probar si los datos fueron insertados."
   ]
  },
  {
   "cell_type": "code",
   "execution_count": 56,
   "metadata": {},
   "outputs": [
    {
     "data": {
      "text/html": [
       "<div>\n",
       "<style scoped>\n",
       "    .dataframe tbody tr th:only-of-type {\n",
       "        vertical-align: middle;\n",
       "    }\n",
       "\n",
       "    .dataframe tbody tr th {\n",
       "        vertical-align: top;\n",
       "    }\n",
       "\n",
       "    .dataframe thead th {\n",
       "        text-align: right;\n",
       "    }\n",
       "</style>\n",
       "<table border=\"1\" class=\"dataframe\">\n",
       "  <thead>\n",
       "    <tr style=\"text-align: right;\">\n",
       "      <th></th>\n",
       "      <th>merge</th>\n",
       "    </tr>\n",
       "  </thead>\n",
       "  <tbody>\n",
       "    <tr>\n",
       "      <th>0</th>\n",
       "      <td>Salad Days (Tang LiuZang) - Part 2 The second ...</td>\n",
       "    </tr>\n",
       "    <tr>\n",
       "      <th>1</th>\n",
       "      <td>The Master of Diabolism As the grandmaster who...</td>\n",
       "    </tr>\n",
       "    <tr>\n",
       "      <th>2</th>\n",
       "      <td>JoJo's Bizarre Adventure Part 7: Steel Ball Ru...</td>\n",
       "    </tr>\n",
       "    <tr>\n",
       "      <th>3</th>\n",
       "      <td>A Sign of Affection Yuki is a typical college ...</td>\n",
       "    </tr>\n",
       "    <tr>\n",
       "      <th>4</th>\n",
       "      <td>Moriarty the Patriot Before he was Sherlock’s ...</td>\n",
       "    </tr>\n",
       "    <tr>\n",
       "      <th>5</th>\n",
       "      <td>Classroom of the Elite (Light Novel) At the pr...</td>\n",
       "    </tr>\n",
       "    <tr>\n",
       "      <th>6</th>\n",
       "      <td>Oshi no Ko In the entertainment industry, lyin...</td>\n",
       "    </tr>\n",
       "    <tr>\n",
       "      <th>7</th>\n",
       "      <td>Who Made Me a Princess The beautiful Athanasia...</td>\n",
       "    </tr>\n",
       "    <tr>\n",
       "      <th>8</th>\n",
       "      <td>Demon Slayer: Kimetsu no Yaiba The setting is ...</td>\n",
       "    </tr>\n",
       "    <tr>\n",
       "      <th>9</th>\n",
       "      <td>Omniscient Reader (Novel) One day, our MC find...</td>\n",
       "    </tr>\n",
       "  </tbody>\n",
       "</table>\n",
       "</div>"
      ],
      "text/plain": [
       "                                               merge\n",
       "0  Salad Days (Tang LiuZang) - Part 2 The second ...\n",
       "1  The Master of Diabolism As the grandmaster who...\n",
       "2  JoJo's Bizarre Adventure Part 7: Steel Ball Ru...\n",
       "3  A Sign of Affection Yuki is a typical college ...\n",
       "4  Moriarty the Patriot Before he was Sherlock’s ...\n",
       "5  Classroom of the Elite (Light Novel) At the pr...\n",
       "6  Oshi no Ko In the entertainment industry, lyin...\n",
       "7  Who Made Me a Princess The beautiful Athanasia...\n",
       "8  Demon Slayer: Kimetsu no Yaiba The setting is ...\n",
       "9  Omniscient Reader (Novel) One day, our MC find..."
      ]
     },
     "execution_count": 56,
     "metadata": {},
     "output_type": "execute_result"
    }
   ],
   "source": [
    "sql_str = \"select merge from manga limit 10;\"\n",
    "ejecutar_consulta(sql_str, select=True)"
   ]
  },
  {
   "cell_type": "markdown",
   "metadata": {},
   "source": [
    "Agregar el Indice Invertido GIN"
   ]
  },
  {
   "cell_type": "code",
   "execution_count": 57,
   "metadata": {},
   "outputs": [],
   "source": [
    "# Se crea una nueva columna donde se guardara el ts_vector indexado\n",
    "sql_str1 = \"alter table manga add column if not exists merge_vector tsvector;\"\n",
    "\n",
    "# Agregar datos a la nueva columna\n",
    "sql_str2 = \"update manga set merge_vector = to_tsvector('english', merge)\"\n",
    "\n",
    "# Agreegar indice invertido GIN\n",
    "sql_str3 = \"create index if not exists manga_merge_index on manga using GIN(merge_vector)\"\n",
    "\n",
    "# Ejecucion de consultas\n",
    "ejecutar_consulta(sql_str1)\n",
    "ejecutar_consulta(sql_str2)\n",
    "ejecutar_consulta(sql_str3)"
   ]
  },
  {
   "cell_type": "markdown",
   "metadata": {},
   "source": [
    "Probar indice invertido"
   ]
  },
  {
   "cell_type": "code",
   "execution_count": 58,
   "metadata": {},
   "outputs": [
    {
     "data": {
      "text/html": [
       "<div>\n",
       "<style scoped>\n",
       "    .dataframe tbody tr th:only-of-type {\n",
       "        vertical-align: middle;\n",
       "    }\n",
       "\n",
       "    .dataframe tbody tr th {\n",
       "        vertical-align: top;\n",
       "    }\n",
       "\n",
       "    .dataframe thead th {\n",
       "        text-align: right;\n",
       "    }\n",
       "</style>\n",
       "<table border=\"1\" class=\"dataframe\">\n",
       "  <thead>\n",
       "    <tr style=\"text-align: right;\">\n",
       "      <th></th>\n",
       "      <th>merge</th>\n",
       "      <th>rank</th>\n",
       "    </tr>\n",
       "  </thead>\n",
       "  <tbody>\n",
       "    <tr>\n",
       "      <th>0</th>\n",
       "      <td>Demon Slayer: Kimetsu no Yaiba The setting is ...</td>\n",
       "      <td>0.5</td>\n",
       "    </tr>\n",
       "    <tr>\n",
       "      <th>1</th>\n",
       "      <td>Kimetsu no Yaiba Koushiki Spin-off: Kimetsu no...</td>\n",
       "      <td>0.3</td>\n",
       "    </tr>\n",
       "    <tr>\n",
       "      <th>2</th>\n",
       "      <td>Kimetsu no Yaiba: Tomioka Giyuu Gaiden Side-st...</td>\n",
       "      <td>0.2</td>\n",
       "    </tr>\n",
       "    <tr>\n",
       "      <th>3</th>\n",
       "      <td>Kimetsu Gakuen! This entry currently doesn't h...</td>\n",
       "      <td>0.1</td>\n",
       "    </tr>\n",
       "    <tr>\n",
       "      <th>4</th>\n",
       "      <td>Demon Slayer: Kimetsu no Yaiba - Shiawase no H...</td>\n",
       "      <td>0.1</td>\n",
       "    </tr>\n",
       "    <tr>\n",
       "      <th>5</th>\n",
       "      <td>Demon Slayer: Kimetsu no Yaiba - Signs from th...</td>\n",
       "      <td>0.1</td>\n",
       "    </tr>\n",
       "    <tr>\n",
       "      <th>6</th>\n",
       "      <td>Demon Slayer: Kimetsu no Yaiba - Katahane no C...</td>\n",
       "      <td>0.1</td>\n",
       "    </tr>\n",
       "    <tr>\n",
       "      <th>7</th>\n",
       "      <td>Demon Slayer: Kimetsu no Yaiba - Tokubetsu Yom...</td>\n",
       "      <td>0.1</td>\n",
       "    </tr>\n",
       "    <tr>\n",
       "      <th>8</th>\n",
       "      <td>Kimetsu no Yaiba: Rengoku Kyoujurou Gaiden Sin...</td>\n",
       "      <td>0.1</td>\n",
       "    </tr>\n",
       "    <tr>\n",
       "      <th>9</th>\n",
       "      <td>Demon Slayer: Kimetsu no Yaiba - Stories of Wa...</td>\n",
       "      <td>0.1</td>\n",
       "    </tr>\n",
       "  </tbody>\n",
       "</table>\n",
       "</div>"
      ],
      "text/plain": [
       "                                               merge  rank\n",
       "0  Demon Slayer: Kimetsu no Yaiba The setting is ...   0.5\n",
       "1  Kimetsu no Yaiba Koushiki Spin-off: Kimetsu no...   0.3\n",
       "2  Kimetsu no Yaiba: Tomioka Giyuu Gaiden Side-st...   0.2\n",
       "3  Kimetsu Gakuen! This entry currently doesn't h...   0.1\n",
       "4  Demon Slayer: Kimetsu no Yaiba - Shiawase no H...   0.1\n",
       "5  Demon Slayer: Kimetsu no Yaiba - Signs from th...   0.1\n",
       "6  Demon Slayer: Kimetsu no Yaiba - Katahane no C...   0.1\n",
       "7  Demon Slayer: Kimetsu no Yaiba - Tokubetsu Yom...   0.1\n",
       "8  Kimetsu no Yaiba: Rengoku Kyoujurou Gaiden Sin...   0.1\n",
       "9  Demon Slayer: Kimetsu no Yaiba - Stories of Wa...   0.1"
      ]
     },
     "execution_count": 58,
     "metadata": {},
     "output_type": "execute_result"
    }
   ],
   "source": [
    "sql_str = \"\"\"  \n",
    "    select merge, ts_rank_cd(merge_vector, query_w) as rank\n",
    "    from manga, to_tsquery('Tanjirou | Kimetsu | Nezuko' )\n",
    "    query_w\n",
    "    where query_w @@ merge_vector\n",
    "    order by rank desc limit 10;\n",
    "\"\"\"\n",
    "\n",
    "ejecutar_consulta(sql_str, True)"
   ]
  }
 ],
 "metadata": {
  "kernelspec": {
   "display_name": ".venv",
   "language": "python",
   "name": "python3"
  },
  "language_info": {
   "codemirror_mode": {
    "name": "ipython",
    "version": 3
   },
   "file_extension": ".py",
   "mimetype": "text/x-python",
   "name": "python",
   "nbconvert_exporter": "python",
   "pygments_lexer": "ipython3",
   "version": "3.12.4"
  }
 },
 "nbformat": 4,
 "nbformat_minor": 2
}
